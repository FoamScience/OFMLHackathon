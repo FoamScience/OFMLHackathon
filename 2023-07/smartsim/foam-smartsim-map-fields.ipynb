{
 "cells": [
  {
   "cell_type": "code",
   "execution_count": 1,
   "id": "696e60ab-9846-4e73-81e7-b0cbbdfcf537",
   "metadata": {},
   "outputs": [
    {
     "name": "stdout",
     "output_type": "stream",
     "text": [
      "SmartRedis Library@11-45-56:WARNING: Environment variable SR_LOG_FILE is not set. Defaulting to stdout\n",
      "SmartRedis Library@11-45-56:WARNING: Environment variable SR_LOG_LEVEL is not set. Defaulting to INFO\n",
      "11:45:57 argo SmartSim[306271] INFO Stopping model orchestrator_0 with job name orchestrator_0-CUB5NW50J1M1\n"
     ]
    }
   ],
   "source": [
    "from smartsim import Experiment\n",
    "from smartredis import Client\n",
    "\n",
    "\n",
    "# Set up the execution of the foamSmartSimMapField application \n",
    "# as a SmartSim Experiment. \n",
    "exp = Experiment(\"foam-smartsim-map-fields\", launcher=\"local\")\n",
    "\n",
    "db = exp.create_database(port=8000,       # database port\n",
    "                         interface=\"lo\")  # network interface to use\n",
    "exp.start(db)\n",
    "\n",
    "# Connect the python client to the smartredis database\n",
    "client = Client(address=db.get_address()[0], cluster=False)\n",
    "\n",
    "# Serial execution run settings for foamSmartSimMapFields\n",
    "num_mpi_ranks = 1\n",
    "run_settings_serial = exp.create_run_settings(exe=\"foamSmartSimMapFields\", \n",
    "                                              exe_args=\"-inputCase pitzDailyCoarse -outputCase pitzDaily -field p\")\n",
    "\n",
    "# MPI parallel run settings for foamSmartSimMapFields - run_command can be \"slurm\" on a cluster.\n",
    "# n_mpi_ranks = 4\n",
    "# run_settings_parallel = exp.create_run_settings(exe=\"foamSmartSimMapFIelds\", \n",
    "#                                                 exe_args=\"-inputCase pitzDailyCoarse -outputCase pitzDaily -field p -parallel\", \n",
    "#                                                 run_command=\"mpirun\", \n",
    "#                                                 run_args={\"np\": f\"{num_mpi_ranks}\"})\n",
    "\n",
    "openfoam_mapfields_model = exp.create_model(name=\"foamSmartSimMapFields\", run_settings=run_settings_serial)\n",
    "\n",
    "\n",
    "try:\n",
    "    # Run foamSmartSimMapFields and do not block\n",
    "    exp.start(openfoam_mapfields_model, block=False)\n",
    "\n",
    "    # # Poll for the data written from openfoam_mapfields_model in smart redis\n",
    "    # cell_centers_updated = client.poll_list_length(\"centersDatasetList\", \n",
    "    #                                                 num_mpi_ranks, 10, 1000);\n",
    "    # if (not cell_centers_updated):\n",
    "    #     raise ValueError(\"Cell centers list not available in smartredis.\")\n",
    "\n",
    "    # # Poll for the input field name passed from opepnfoam_mapfields_model to python\n",
    "    # cell_centers_updated = client.poll_key(\"input_field_name\", 10, 1000);\n",
    "\n",
    "    # # Get the field_name \n",
    "    # # input_field_name = .. get it from smart redis\n",
    "\n",
    "    # # Poll for the data from openfoam_mapfields_model \n",
    "    # input_field_updated = client.poll_list_length(input_field_name + \"DatasetList\", \n",
    "    #                                               num_mpi_ranks, 10, 1000);\n",
    "    # if (not input_field_updated):\n",
    "    #     raise ValueError(\"Input field is not available in smartredis.\")\n",
    "\n",
    "    # Get the cell center tensor from smartredis\n",
    "    # Get the input field tensor from smartredis\n",
    "\n",
    "    # Train an ML model M(cell_center, theta), M: cell_center -> input_field\n",
    "\n",
    "    # Perform forward inference of the model in smartredis using cell_centers as input and store output. \n",
    "\n",
    "    # Save the key in smartredis that forward pass has completed.\n",
    "\n",
    "except Exception as e:\n",
    "    print(\"Caught an exception: \", str(e))\n",
    "    \n",
    "finally:\n",
    "    exp.stop(db)"
   ]
  }
 ],
 "metadata": {
  "kernelspec": {
   "display_name": "Python 3 (ipykernel)",
   "language": "python",
   "name": "python3"
  },
  "language_info": {
   "codemirror_mode": {
    "name": "ipython",
    "version": 3
   },
   "file_extension": ".py",
   "mimetype": "text/x-python",
   "name": "python",
   "nbconvert_exporter": "python",
   "pygments_lexer": "ipython3",
   "version": "3.9.17"
  }
 },
 "nbformat": 4,
 "nbformat_minor": 5
}
